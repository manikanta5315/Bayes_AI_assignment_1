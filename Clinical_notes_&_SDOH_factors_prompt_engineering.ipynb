{
  "cells": [
    {
      "cell_type": "markdown",
      "metadata": {
        "id": "view-in-github",
        "colab_type": "text"
      },
      "source": [
        "<a href=\"https://colab.research.google.com/github/manikanta5315/Bayes_Assignments/blob/main/Clinical_notes_%26_SDOH_factors_prompt_engineering.ipynb\" target=\"_parent\"><img src=\"https://colab.research.google.com/assets/colab-badge.svg\" alt=\"Open In Colab\"/></a>"
      ]
    },
    {
      "cell_type": "code",
      "source": [
        "!pip install gradio -q\n",
        "!pip install groq -q\n",
        "!pip install pandas -q"
      ],
      "metadata": {
        "colab": {
          "base_uri": "https://localhost:8080/"
        },
        "id": "kVjxm7kupKdS",
        "outputId": "0ec840aa-0eeb-423c-b8db-f173f973f9d2"
      },
      "execution_count": 1,
      "outputs": [
        {
          "output_type": "stream",
          "name": "stdout",
          "text": [
            "\u001b[2K   \u001b[90m━━━━━━━━━━━━━━━━━━━━━━━━━━━━━━━━━━━━━━━━\u001b[0m \u001b[32m57.1/57.1 MB\u001b[0m \u001b[31m12.9 MB/s\u001b[0m eta \u001b[36m0:00:00\u001b[0m\n",
            "\u001b[2K   \u001b[90m━━━━━━━━━━━━━━━━━━━━━━━━━━━━━━━━━━━━━━━━\u001b[0m \u001b[32m320.1/320.1 kB\u001b[0m \u001b[31m21.0 MB/s\u001b[0m eta \u001b[36m0:00:00\u001b[0m\n",
            "\u001b[2K   \u001b[90m━━━━━━━━━━━━━━━━━━━━━━━━━━━━━━━━━━━━━━━━\u001b[0m \u001b[32m94.9/94.9 kB\u001b[0m \u001b[31m6.8 MB/s\u001b[0m eta \u001b[36m0:00:00\u001b[0m\n",
            "\u001b[2K   \u001b[90m━━━━━━━━━━━━━━━━━━━━━━━━━━━━━━━━━━━━━━━━\u001b[0m \u001b[32m11.2/11.2 MB\u001b[0m \u001b[31m89.4 MB/s\u001b[0m eta \u001b[36m0:00:00\u001b[0m\n",
            "\u001b[2K   \u001b[90m━━━━━━━━━━━━━━━━━━━━━━━━━━━━━━━━━━━━━━━━\u001b[0m \u001b[32m73.2/73.2 kB\u001b[0m \u001b[31m5.3 MB/s\u001b[0m eta \u001b[36m0:00:00\u001b[0m\n",
            "\u001b[2K   \u001b[90m━━━━━━━━━━━━━━━━━━━━━━━━━━━━━━━━━━━━━━━━\u001b[0m \u001b[32m63.8/63.8 kB\u001b[0m \u001b[31m3.6 MB/s\u001b[0m eta \u001b[36m0:00:00\u001b[0m\n",
            "\u001b[2K   \u001b[90m━━━━━━━━━━━━━━━━━━━━━━━━━━━━━━━━━━━━━━━━\u001b[0m \u001b[32m130.2/130.2 kB\u001b[0m \u001b[31m9.8 MB/s\u001b[0m eta \u001b[36m0:00:00\u001b[0m\n",
            "\u001b[2K   \u001b[90m━━━━━━━━━━━━━━━━━━━━━━━━━━━━━━━━━━━━━━━━\u001b[0m \u001b[32m108.8/108.8 kB\u001b[0m \u001b[31m2.7 MB/s\u001b[0m eta \u001b[36m0:00:00\u001b[0m\n",
            "\u001b[?25h"
          ]
        }
      ]
    },
    {
      "cell_type": "code",
      "source": [
        "import os\n",
        "import json\n",
        "import pandas as pd\n",
        "import gradio as gr\n",
        "from groq import Groq"
      ],
      "metadata": {
        "id": "M_KZ-4ABoqpX"
      },
      "execution_count": 2,
      "outputs": []
    },
    {
      "cell_type": "code",
      "source": [
        "from google.colab import userdata\n",
        "from google.colab import drive\n",
        "groq_api_key = userdata.get('groqAPI')\n",
        "os.environ['GROQ_API_KEY'] = groq_api_key\n",
        "drive.mount('/content/drive')"
      ],
      "metadata": {
        "colab": {
          "base_uri": "https://localhost:8080/"
        },
        "id": "vyVa0GyApsLJ",
        "outputId": "03e12590-5396-4f9a-a9eb-948bc680c456"
      },
      "execution_count": 3,
      "outputs": [
        {
          "output_type": "stream",
          "name": "stdout",
          "text": [
            "Drive already mounted at /content/drive; to attempt to forcibly remount, call drive.mount(\"/content/drive\", force_remount=True).\n"
          ]
        }
      ]
    },
    {
      "cell_type": "code",
      "source": [
        "def load_sdoh_codes(csv_path):\n",
        "    \"\"\"Load SDOH codes from CSV file\"\"\"\n",
        "    try:\n",
        "        sdoh_df = pd.read_csv(csv_path)\n",
        "        if not all(col in sdoh_df.columns for col in ['SDOH factor', 'Code']):\n",
        "            raise ValueError(\"Missing required columns in CSV: 'SDOH factor' or 'Code'\")\n",
        "        return dict(zip(sdoh_df['SDOH factor'].str.lower(), sdoh_df['Code']))\n",
        "    except Exception as e:\n",
        "        print(f\"Error loading SDOH codes: {e}\")\n",
        "        return {}"
      ],
      "metadata": {
        "id": "ukeG2LpGotMX"
      },
      "execution_count": 32,
      "outputs": []
    },
    {
      "cell_type": "code",
      "source": [
        "\n",
        "def extract_patient_info(clinical_note):\n",
        "    \"\"\"Send the clinical note to the model and return the extracted patient information.\"\"\"\n",
        "    try:\n",
        "        # Ensure API key is set\n",
        "        if 'GROQ_API_KEY' not in os.environ:\n",
        "            raise ValueError(\"Groq API key not found in environment variables\")\n",
        "\n",
        "        client = Groq(api_key=os.environ['GROQ_API_KEY'])\n",
        "\n",
        "        # Detailed prompt for comprehensive SDOH factor extraction\n",
        "        prompt = f\"\"\"Extract patient information with precise focus on matchable Social Determinants of Health (SDOH) Factors:\n",
        "\n",
        "EXTRACTION INSTRUCTIONS:\n",
        "1. Extract patient name exactly as it appears\n",
        "2. Identify hospital name and full address\n",
        "3. List all allergies\n",
        "4. List all major medical problems\n",
        "5. SDOH Factors: Precise, extractable social determinants and dont give the sdoh factors which are not matching and also don't mention them.\n",
        "\n",
        "        **Social Determinants of Health (SDOH) Factors:**\n",
        "\n",
        "        **Exposure to Radiation**\n",
        "        This includes subcategories such as occupational radiation exposure, medical diagnostic radiation (X-rays, CT scans), environmental radiation sources (nuclear fallout, radon gas), ultraviolet radiation (sun exposure), and proximity to nuclear facilities.\n",
        "\n",
        "        **Lack of Access to Clean Water**\n",
        "        This factor comprises insufficient potable water for drinking, contamination of household water supplies, agricultural irrigation challenges, and dependence on unsafe natural water sources.\n",
        "\n",
        "        **Exposure to High Noise**\n",
        "        Includes noise pollution from industrial work environments, urban traffic noise, excessive residential noise, recreational noise exposure (concerts, clubs).\n",
        "\n",
        "        **Workplace-Related Stress**\n",
        "        Subcategories include job insecurity, excessive workload, workplace harassment, lack of work-life balance, and poor relationships with coworkers or supervisors.\n",
        "\n",
        "        **Limited Access to Healthcare Services**\n",
        "        Encompasses physical distance from healthcare facilities, financial barriers (lack of insurance), long wait times for appointments, absence of specialized care in the area.\n",
        "\n",
        "        **Poor Housing Conditions**\n",
        "        Includes inadequate ventilation, overcrowding, exposure to mold or pests, unstable building structures, and lack of heating or cooling systems.\n",
        "\n",
        "        **Inadequate Nutrition**\n",
        "        Subcategories include food insecurity, reliance on low-nutrient processed foods, lack of access to fresh produce, malnutrition, and dietary imbalances.\n",
        "\n",
        "        **Exposure to Nuclear Radiation**\n",
        "        This involves incidents of nuclear accidents, exposure through medical therapies (radiation treatments), contamination in specific geographic regions, occupational exposure in nuclear plants, and exposure through contaminated food or water.\n",
        "\n",
        "        **Exposure to Dust and Smoke**\n",
        "        Includes industrial emissions, exposure to wildfire smoke, indoor air pollution from cooking fuels, occupational dust (construction, mining), and secondhand tobacco smoke.\n",
        "\n",
        "        **Exposure to Environmental Pollutants**\n",
        "        Encompasses exposure to chemical spills, pesticide exposure in agricultural settings, industrial waste in water bodies, urban air pollution (smog), and proximity to waste disposal sites.\n",
        "\n",
        "        note: Dont consider all the SDOH factor. consider only if they match exact.\n",
        "\n",
        "CLINICAL NOTE: Only match the SDOH factors which are exactly matched. and others dont pass and mention.\n",
        "{clinical_note}\n",
        "\n",
        "OUTPUT FORMAT (STRICT JSON):\n",
        "{{\n",
        "    \"patient_information\": {{\n",
        "        \"name\": \"\",\n",
        "        \"hospital\": {{\n",
        "            \"name\": \"\",\n",
        "            \"address\": \"\"\n",
        "        }},\n",
        "        \"allergies\": [],\n",
        "        \"major_medical_problems\": []\n",
        "    }},\n",
        "          \"sdoh_factors\": [\n",
        "            \"Specific SDOH Factor 1\",\n",
        "            \"Specific SDOH Factor 2\"\n",
        "    ]\n",
        "}}\n",
        "\n",
        "\n",
        "MATCHING CRITERIA:\n",
        "- Only include SDOH factors with EXACT matches to predefined codes and dont give the sdoh factors which are not matched and also don't mention them in the output\n",
        "- Prioritize high-confidence, specific social determinant extractions\n",
        "- Avoid general or interpretative statements\n",
        "\n",
        "\n",
        "CRITICAL REQUIREMENTS:\n",
        "- NO unmatched SDOH factors in final output and also don't mention them\n",
        "- For the SDOH factor pass only which are exactly matched\n",
        "- Be specific and comprehensive\n",
        "- Use verbatim text from the clinical note\n",
        "- No interpretations, only direct extractions\"\"\"\n",
        "\n",
        "        response = client.chat.completions.create(\n",
        "            messages=[\n",
        "                {\n",
        "                    \"role\": \"system\",\n",
        "                    \"content\": \"You are a precise medical information and SDOH factor extractor. Output ONLY the requested JSON.\"\n",
        "                },\n",
        "                {\"role\": \"user\", \"content\": prompt}\n",
        "            ],\n",
        "            model=\"mixtral-8x7b-32768\",\n",
        "            temperature=0.1,\n",
        "            top_p = 0.9,\n",
        "            max_tokens=5000,\n",
        "            response_format={\"type\": \"json_object\"}\n",
        "        )\n",
        "\n",
        "        # Extract and parse response\n",
        "        response_content = response.choices[0].message.content\n",
        "\n",
        "        try:\n",
        "            # Strip whitespace and parse JSON\n",
        "            response_content = response_content.strip()\n",
        "            data = json.loads(response_content)\n",
        "\n",
        "            # Validate structure\n",
        "            if not isinstance(data, dict) or 'patient_information' not in data:\n",
        "                return {\"error\": \"Invalid response structure\"}\n",
        "\n",
        "            return data\n",
        "\n",
        "        except json.JSONDecodeError as e:\n",
        "            print(f\"JSON Parsing Error: {e}\")\n",
        "            return {\n",
        "                \"error\": f\"Failed to parse JSON: {str(e)}\",\n",
        "                \"raw_response\": response_content\n",
        "            }\n",
        "\n",
        "    except Exception as e:\n",
        "        print(f\"Critical Extraction Error: {e}\")\n",
        "        import traceback\n",
        "        traceback.print_exc()\n",
        "        return {\"error\": str(e)}"
      ],
      "metadata": {
        "id": "48tUX9Iro0xC"
      },
      "execution_count": 173,
      "outputs": []
    },
    {
      "cell_type": "code",
      "source": [
        "def match_sdoh_codes(extracted_info, sdoh_codes):\n",
        "    \"\"\"Match extracted SDOH factors with their corresponding codes.\"\"\"\n",
        "    try:\n",
        "        # Validate input\n",
        "        if not isinstance(extracted_info, dict) or 'sdoh_factors' not in extracted_info:\n",
        "            return {\"error\": \"Invalid extracted information\"}\n",
        "\n",
        "        # Match SDOH factors with codes\n",
        "        sdoh_factors = extracted_info['sdoh_factors']\n",
        "        sdoh_with_codes = []\n",
        "\n",
        "        for factor in sdoh_factors:\n",
        "            factor_lower = factor.lower()\n",
        "            matched_code = sdoh_codes.get(factor_lower, \"CODE_NOT_FOUND\")\n",
        "            sdoh_with_codes.append({\n",
        "                \"original_factor\": factor,\n",
        "                \"matched_code\": matched_code,\n",
        "                \"status\": \"Exact\" if matched_code != \"CODE_NOT_FOUND\" else \"Not Found\"\n",
        "            })\n",
        "\n",
        "        # Prepare final result\n",
        "        result = {\n",
        "            \"patient_information\": extracted_info.get('patient_information', {}),\n",
        "            \"sdoh_factors_with_codes\": sdoh_with_codes\n",
        "        }\n",
        "\n",
        "        return result\n",
        "\n",
        "    except Exception as e:\n",
        "        print(f\"Error matching SDOH codes: {e}\")\n",
        "        return {\"error\": str(e)}"
      ],
      "metadata": {
        "id": "PvcnPLWUo2C4"
      },
      "execution_count": 174,
      "outputs": []
    },
    {
      "cell_type": "code",
      "source": [
        "def process_files(clinical_note_path, sdoh_csv_path):\n",
        "    \"\"\"Process clinical notes and match SDOH codes.\"\"\"\n",
        "    try:\n",
        "        # Read clinical note\n",
        "        with open(clinical_note_path, 'r') as file:\n",
        "            clinical_note = file.read()\n",
        "\n",
        "        # Load SDOH codes\n",
        "        sdoh_codes = load_sdoh_codes(sdoh_csv_path)\n",
        "\n",
        "        # Extract patient information\n",
        "        extracted_info = extract_patient_info(clinical_note)\n",
        "\n",
        "        # Match SDOH codes\n",
        "        result = match_sdoh_codes(extracted_info, sdoh_codes)\n",
        "\n",
        "        return json.dumps(result, indent=2)\n",
        "\n",
        "    except Exception as e:\n",
        "        print(f\"Unexpected error: {e}\")\n",
        "        import traceback\n",
        "        traceback.print_exc()\n",
        "        return json.dumps({\"error\": str(e)})\n",
        "\n"
      ],
      "metadata": {
        "id": "X_9uCp4ho6JS"
      },
      "execution_count": 175,
      "outputs": []
    },
    {
      "cell_type": "code",
      "source": [
        "def main():\n",
        "    # Gradio interface\n",
        "    iface = gr.Interface(\n",
        "        fn=process_files,\n",
        "        inputs=[\n",
        "            gr.File(label=\"Clinical Note\"),\n",
        "            gr.File(label=\"SDOH Codes CSV\")\n",
        "        ],\n",
        "        outputs=gr.Textbox(label=\"Extracted Information\"),\n",
        "        title=\"Clinical Note and SDOH Code Matcher\",\n",
        "        description=\"Extract patient information and match SDOH factors with codes\"\n",
        "    )\n",
        "\n",
        "    # Launch the interface\n",
        "    iface.launch()\n",
        "\n",
        "if __name__ == \"__main__\":\n",
        "    # Ensure Groq API key is set\n",
        "    if not os.environ.get(\"GROQ_API_KEY\"):\n",
        "        print(\"Please set your GROQ_API_KEY environment variable\")\n",
        "    else:\n",
        "        main()"
      ],
      "metadata": {
        "colab": {
          "base_uri": "https://localhost:8080/",
          "height": 646
        },
        "id": "hFx_dF2npHqz",
        "outputId": "3e91c45a-1829-41c3-fec6-5b29ddf261d5"
      },
      "execution_count": 176,
      "outputs": [
        {
          "output_type": "stream",
          "name": "stdout",
          "text": [
            "Running Gradio in a Colab notebook requires sharing enabled. Automatically setting `share=True` (you can turn this off by setting `share=False` in `launch()` explicitly).\n",
            "\n",
            "Colab notebook detected. To show errors in colab notebook, set debug=True in launch()\n",
            "* Running on public URL: https://30cb636c372afcd342.gradio.live\n",
            "\n",
            "This share link expires in 72 hours. For free permanent hosting and GPU upgrades, run `gradio deploy` from the terminal in the working directory to deploy to Hugging Face Spaces (https://huggingface.co/spaces)\n"
          ]
        },
        {
          "output_type": "display_data",
          "data": {
            "text/plain": [
              "<IPython.core.display.HTML object>"
            ],
            "text/html": [
              "<div><iframe src=\"https://30cb636c372afcd342.gradio.live\" width=\"100%\" height=\"500\" allow=\"autoplay; camera; microphone; clipboard-read; clipboard-write;\" frameborder=\"0\" allowfullscreen></iframe></div>"
            ]
          },
          "metadata": {}
        }
      ]
    }
  ],
  "metadata": {
    "colab": {
      "provenance": [],
      "mount_file_id": "1jnCzDOl4PehtQRRIN8XnapM6knDOV6Yi",
      "authorship_tag": "ABX9TyM63nnX6DmyPMgv6ArHjTOR",
      "include_colab_link": true
    },
    "kernelspec": {
      "display_name": "Python 3",
      "name": "python3"
    },
    "language_info": {
      "name": "python"
    }
  },
  "nbformat": 4,
  "nbformat_minor": 0
}