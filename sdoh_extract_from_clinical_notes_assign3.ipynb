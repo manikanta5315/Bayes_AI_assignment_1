{
  "nbformat": 4,
  "nbformat_minor": 0,
  "metadata": {
    "colab": {
      "provenance": [],
      "authorship_tag": "ABX9TyMHUCWNcGYpHgHn913Wlbqy",
      "include_colab_link": true
    },
    "kernelspec": {
      "name": "python3",
      "display_name": "Python 3"
    },
    "language_info": {
      "name": "python"
    }
  },
  "cells": [
    {
      "cell_type": "markdown",
      "metadata": {
        "id": "view-in-github",
        "colab_type": "text"
      },
      "source": [
        "<a href=\"https://colab.research.google.com/github/manikanta5315/Bayes_Assignments/blob/main/sdoh_extract_from_clinical_notes_assign3.ipynb\" target=\"_parent\"><img src=\"https://colab.research.google.com/assets/colab-badge.svg\" alt=\"Open In Colab\"/></a>"
      ]
    },
    {
      "cell_type": "code",
      "source": [
        "! pip install gradio"
      ],
      "metadata": {
        "colab": {
          "base_uri": "https://localhost:8080/"
        },
        "id": "WL5gdDSrB_OZ",
        "outputId": "22cbddf9-25da-4d99-b275-16431696c3e9"
      },
      "execution_count": 9,
      "outputs": [
        {
          "output_type": "stream",
          "name": "stdout",
          "text": [
            "Requirement already satisfied: gradio in /usr/local/lib/python3.10/dist-packages (5.6.0)\n",
            "Requirement already satisfied: aiofiles<24.0,>=22.0 in /usr/local/lib/python3.10/dist-packages (from gradio) (23.2.1)\n",
            "Requirement already satisfied: anyio<5.0,>=3.0 in /usr/local/lib/python3.10/dist-packages (from gradio) (3.7.1)\n",
            "Requirement already satisfied: fastapi<1.0,>=0.115.2 in /usr/local/lib/python3.10/dist-packages (from gradio) (0.115.5)\n",
            "Requirement already satisfied: ffmpy in /usr/local/lib/python3.10/dist-packages (from gradio) (0.4.0)\n",
            "Requirement already satisfied: gradio-client==1.4.3 in /usr/local/lib/python3.10/dist-packages (from gradio) (1.4.3)\n",
            "Requirement already satisfied: httpx>=0.24.1 in /usr/local/lib/python3.10/dist-packages (from gradio) (0.27.2)\n",
            "Requirement already satisfied: huggingface-hub>=0.25.1 in /usr/local/lib/python3.10/dist-packages (from gradio) (0.26.2)\n",
            "Requirement already satisfied: jinja2<4.0 in /usr/local/lib/python3.10/dist-packages (from gradio) (3.1.4)\n",
            "Requirement already satisfied: markupsafe~=2.0 in /usr/local/lib/python3.10/dist-packages (from gradio) (2.1.5)\n",
            "Requirement already satisfied: numpy<3.0,>=1.0 in /usr/local/lib/python3.10/dist-packages (from gradio) (1.26.4)\n",
            "Requirement already satisfied: orjson~=3.0 in /usr/local/lib/python3.10/dist-packages (from gradio) (3.10.11)\n",
            "Requirement already satisfied: packaging in /usr/local/lib/python3.10/dist-packages (from gradio) (24.2)\n",
            "Requirement already satisfied: pandas<3.0,>=1.0 in /usr/local/lib/python3.10/dist-packages (from gradio) (2.2.2)\n",
            "Requirement already satisfied: pillow<12.0,>=8.0 in /usr/local/lib/python3.10/dist-packages (from gradio) (11.0.0)\n",
            "Requirement already satisfied: pydantic>=2.0 in /usr/local/lib/python3.10/dist-packages (from gradio) (2.9.2)\n",
            "Requirement already satisfied: pydub in /usr/local/lib/python3.10/dist-packages (from gradio) (0.25.1)\n",
            "Requirement already satisfied: python-multipart==0.0.12 in /usr/local/lib/python3.10/dist-packages (from gradio) (0.0.12)\n",
            "Requirement already satisfied: pyyaml<7.0,>=5.0 in /usr/local/lib/python3.10/dist-packages (from gradio) (6.0.2)\n",
            "Requirement already satisfied: ruff>=0.2.2 in /usr/local/lib/python3.10/dist-packages (from gradio) (0.7.4)\n",
            "Requirement already satisfied: safehttpx<1.0,>=0.1.1 in /usr/local/lib/python3.10/dist-packages (from gradio) (0.1.1)\n",
            "Requirement already satisfied: semantic-version~=2.0 in /usr/local/lib/python3.10/dist-packages (from gradio) (2.10.0)\n",
            "Requirement already satisfied: starlette<1.0,>=0.40.0 in /usr/local/lib/python3.10/dist-packages (from gradio) (0.41.3)\n",
            "Requirement already satisfied: tomlkit==0.12.0 in /usr/local/lib/python3.10/dist-packages (from gradio) (0.12.0)\n",
            "Requirement already satisfied: typer<1.0,>=0.12 in /usr/local/lib/python3.10/dist-packages (from gradio) (0.13.0)\n",
            "Requirement already satisfied: typing-extensions~=4.0 in /usr/local/lib/python3.10/dist-packages (from gradio) (4.12.2)\n",
            "Requirement already satisfied: uvicorn>=0.14.0 in /usr/local/lib/python3.10/dist-packages (from gradio) (0.32.1)\n",
            "Requirement already satisfied: fsspec in /usr/local/lib/python3.10/dist-packages (from gradio-client==1.4.3->gradio) (2024.10.0)\n",
            "Requirement already satisfied: websockets<13.0,>=10.0 in /usr/local/lib/python3.10/dist-packages (from gradio-client==1.4.3->gradio) (12.0)\n",
            "Requirement already satisfied: idna>=2.8 in /usr/local/lib/python3.10/dist-packages (from anyio<5.0,>=3.0->gradio) (3.10)\n",
            "Requirement already satisfied: sniffio>=1.1 in /usr/local/lib/python3.10/dist-packages (from anyio<5.0,>=3.0->gradio) (1.3.1)\n",
            "Requirement already satisfied: exceptiongroup in /usr/local/lib/python3.10/dist-packages (from anyio<5.0,>=3.0->gradio) (1.2.2)\n",
            "Requirement already satisfied: certifi in /usr/local/lib/python3.10/dist-packages (from httpx>=0.24.1->gradio) (2024.8.30)\n",
            "Requirement already satisfied: httpcore==1.* in /usr/local/lib/python3.10/dist-packages (from httpx>=0.24.1->gradio) (1.0.7)\n",
            "Requirement already satisfied: h11<0.15,>=0.13 in /usr/local/lib/python3.10/dist-packages (from httpcore==1.*->httpx>=0.24.1->gradio) (0.14.0)\n",
            "Requirement already satisfied: filelock in /usr/local/lib/python3.10/dist-packages (from huggingface-hub>=0.25.1->gradio) (3.16.1)\n",
            "Requirement already satisfied: requests in /usr/local/lib/python3.10/dist-packages (from huggingface-hub>=0.25.1->gradio) (2.32.3)\n",
            "Requirement already satisfied: tqdm>=4.42.1 in /usr/local/lib/python3.10/dist-packages (from huggingface-hub>=0.25.1->gradio) (4.66.6)\n",
            "Requirement already satisfied: python-dateutil>=2.8.2 in /usr/local/lib/python3.10/dist-packages (from pandas<3.0,>=1.0->gradio) (2.8.2)\n",
            "Requirement already satisfied: pytz>=2020.1 in /usr/local/lib/python3.10/dist-packages (from pandas<3.0,>=1.0->gradio) (2024.2)\n",
            "Requirement already satisfied: tzdata>=2022.7 in /usr/local/lib/python3.10/dist-packages (from pandas<3.0,>=1.0->gradio) (2024.2)\n",
            "Requirement already satisfied: annotated-types>=0.6.0 in /usr/local/lib/python3.10/dist-packages (from pydantic>=2.0->gradio) (0.7.0)\n",
            "Requirement already satisfied: pydantic-core==2.23.4 in /usr/local/lib/python3.10/dist-packages (from pydantic>=2.0->gradio) (2.23.4)\n",
            "Requirement already satisfied: click>=8.0.0 in /usr/local/lib/python3.10/dist-packages (from typer<1.0,>=0.12->gradio) (8.1.7)\n",
            "Requirement already satisfied: shellingham>=1.3.0 in /usr/local/lib/python3.10/dist-packages (from typer<1.0,>=0.12->gradio) (1.5.4)\n",
            "Requirement already satisfied: rich>=10.11.0 in /usr/local/lib/python3.10/dist-packages (from typer<1.0,>=0.12->gradio) (13.9.4)\n",
            "Requirement already satisfied: six>=1.5 in /usr/local/lib/python3.10/dist-packages (from python-dateutil>=2.8.2->pandas<3.0,>=1.0->gradio) (1.16.0)\n",
            "Requirement already satisfied: markdown-it-py>=2.2.0 in /usr/local/lib/python3.10/dist-packages (from rich>=10.11.0->typer<1.0,>=0.12->gradio) (3.0.0)\n",
            "Requirement already satisfied: pygments<3.0.0,>=2.13.0 in /usr/local/lib/python3.10/dist-packages (from rich>=10.11.0->typer<1.0,>=0.12->gradio) (2.18.0)\n",
            "Requirement already satisfied: charset-normalizer<4,>=2 in /usr/local/lib/python3.10/dist-packages (from requests->huggingface-hub>=0.25.1->gradio) (3.4.0)\n",
            "Requirement already satisfied: urllib3<3,>=1.21.1 in /usr/local/lib/python3.10/dist-packages (from requests->huggingface-hub>=0.25.1->gradio) (2.2.3)\n",
            "Requirement already satisfied: mdurl~=0.1 in /usr/local/lib/python3.10/dist-packages (from markdown-it-py>=2.2.0->rich>=10.11.0->typer<1.0,>=0.12->gradio) (0.1.2)\n"
          ]
        }
      ]
    },
    {
      "cell_type": "code",
      "execution_count": 10,
      "metadata": {
        "id": "ogF-TmfnBnBH"
      },
      "outputs": [],
      "source": [
        "import pandas as pd\n",
        "import re\n",
        "import json\n",
        "import gradio as gr"
      ]
    },
    {
      "cell_type": "code",
      "source": [
        "# Function to read the SDOH CSV/Excel file\n",
        "def read_sdo_data(sdo_file):\n",
        "    # Check if the file is CSV or Excel and load accordingly\n",
        "    if sdo_file.name.endswith('.csv'):\n",
        "        return pd.read_csv(sdo_file.name)\n",
        "    elif sdo_file.name.endswith('.xlsx'):\n",
        "        return pd.read_excel(sdo_file.name)\n",
        "    else:\n",
        "        raise ValueError(\"Unsupported file format. Please upload CSV or Excel files.\")"
      ],
      "metadata": {
        "id": "QPdgQT_YM3st"
      },
      "execution_count": 11,
      "outputs": []
    },
    {
      "cell_type": "code",
      "source": [
        "# Function to read clinical notes file\n",
        "def read_clinical_notes(clinical_notes_file):\n",
        "    with open(clinical_notes_file.name, \"r\") as f:\n",
        "        return f.read()"
      ],
      "metadata": {
        "id": "cEWj1R-MM8Ex"
      },
      "execution_count": 12,
      "outputs": []
    },
    {
      "cell_type": "code",
      "source": [
        "# Function to extract patient details from clinical notes\n",
        "def extract_patient_details(clinical_notes):\n",
        "    # Regex patterns for extracting details\n",
        "    name_pattern = r\"Pt: ([\\w\\s\\.]+)\"\n",
        "    address_pattern = r\"residing @ ([\\w\\s,]+)\"\n",
        "    hospital_pattern = r\"Treating facility: ([\\w\\s,]+)\"\n",
        "    allergies_pattern = r\"allergies to: ([\\w\\s,]+)\"\n",
        "    major_problem_pattern = r\"Dx: ([\\w\\s,]+)\"\n",
        "\n",
        "    # Extract the details using regex\n",
        "    name = re.search(name_pattern, clinical_notes)\n",
        "    address = re.search(address_pattern, clinical_notes)\n",
        "    hospital = re.search(hospital_pattern, clinical_notes)\n",
        "    allergies = re.search(allergies_pattern, clinical_notes)\n",
        "    major_problem = re.search(major_problem_pattern, clinical_notes)\n",
        "\n",
        "    # Return extracted details in a dictionary\n",
        "    patient_details = {\n",
        "        \"Name\": name.group(1) if name else \"N/A\",\n",
        "        \"Address\": address.group(1) if address else \"N/A\",\n",
        "        \"Hospital\": hospital.group(1) if hospital else \"N/A\",\n",
        "        \"Allergies\": allergies.group(1) if allergies else \"N/A\",\n",
        "        \"Major Medical Problem\": major_problem.group(1) if major_problem else \"N/A\"\n",
        "    }\n",
        "\n",
        "    return patient_details"
      ],
      "metadata": {
        "id": "7cjDW3IwM-pe"
      },
      "execution_count": 13,
      "outputs": []
    },
    {
      "cell_type": "code",
      "source": [
        "def extract_sdo_factors(clinical_notes, sdo_df):\n",
        "    # SDOH factors to check from clinical notes\n",
        "    sdo_factors = {\n",
        "        \"Lack of access to clean water\": r\"clean water\",\n",
        "        \"Poor housing conditions\": r\"condemned trailer park\",\n",
        "        \"Inadequate nutrition\": r\"food\",\n",
        "        \"Exposure to environmental pollutants\": r\"toxic exposure\"\n",
        "    }\n",
        "\n",
        "    # Matched SDOH factors list\n",
        "    matched_sdoh = []\n",
        "\n",
        "    # Loop through each SDOH factor and match it in clinical notes\n",
        "    for factor, pattern in sdo_factors.items():\n",
        "        if re.search(pattern, clinical_notes, re.IGNORECASE):\n",
        "            # Try to find the corresponding code from the dataframe\n",
        "            matched_code = sdo_df[sdo_df['SDOH factor'] == factor]\n",
        "\n",
        "            if not matched_code.empty:\n",
        "                # Add matched SDOH factor with its corresponding code\n",
        "                matched_sdoh.append({\n",
        "                    \"SDOH Factor\": factor,\n",
        "                    \"Code\": matched_code['Code'].values[0]\n",
        "                })\n",
        "            else:\n",
        "                # If no code found, append the SDOH factor with 'N/A'\n",
        "                matched_sdoh.append({\n",
        "                    \"SDOH Factor\": factor,\n",
        "                    \"Code\": 'N/A'  # No code found for this factor\n",
        "                })\n",
        "\n",
        "    return matched_sdoh\n"
      ],
      "metadata": {
        "id": "VB9JBbm4NFLW"
      },
      "execution_count": 14,
      "outputs": []
    },
    {
      "cell_type": "code",
      "source": [
        "import gradio as gr\n",
        "\n",
        "# Main function that integrates everything\n",
        "def gradio_interface(sdo_file, clinical_notes_file):\n",
        "    try:\n",
        "        # Read SDOH data\n",
        "        sdo_df = read_sdo_data(sdo_file)\n",
        "\n",
        "        # Read clinical notes\n",
        "        clinical_notes = read_clinical_notes(clinical_notes_file)\n",
        "\n",
        "        # Extract patient details\n",
        "        patient_details = extract_patient_details(clinical_notes)\n",
        "\n",
        "        # Extract SDOH factors and match with codes\n",
        "        sdoh_factors = extract_sdo_factors(clinical_notes, sdo_df)\n",
        "\n",
        "        # Prepare final result in JSON format\n",
        "        result = {\n",
        "            \"Patient Details\": patient_details,\n",
        "            \"SDOH Factors\": sdoh_factors\n",
        "        }\n",
        "\n",
        "        return json.dumps(result, indent=4)  # Return as JSON string\n",
        "    except Exception as e:\n",
        "        return f\"Error: {e}\"\n"
      ],
      "metadata": {
        "id": "o0UvIHCJNNgl"
      },
      "execution_count": 15,
      "outputs": []
    },
    {
      "cell_type": "code",
      "source": [
        "# Gradio interface to upload files and show results\n",
        "iface = gr.Interface(\n",
        "    fn=gradio_interface,\n",
        "    inputs=[\n",
        "        gr.File(label=\"Upload SDOH CSV/Excel file\"),\n",
        "        gr.File(label=\"Upload Clinical Notes File (Text Format)\")\n",
        "    ],\n",
        "    outputs=\"text\",  # Output the JSON result\n",
        "    live=False\n",
        ")\n",
        "\n",
        "iface.launch(share=True)\n"
      ],
      "metadata": {
        "colab": {
          "base_uri": "https://localhost:8080/",
          "height": 613
        },
        "id": "cR490bhzNQ-i",
        "outputId": "ff42d37c-56bd-427b-bc94-5b5a0359d3a5"
      },
      "execution_count": 16,
      "outputs": [
        {
          "output_type": "stream",
          "name": "stdout",
          "text": [
            "Colab notebook detected. To show errors in colab notebook, set debug=True in launch()\n",
            "* Running on public URL: https://39a5335697a7ad0908.gradio.live\n",
            "\n",
            "This share link expires in 72 hours. For free permanent hosting and GPU upgrades, run `gradio deploy` from the terminal in the working directory to deploy to Hugging Face Spaces (https://huggingface.co/spaces)\n"
          ]
        },
        {
          "output_type": "display_data",
          "data": {
            "text/plain": [
              "<IPython.core.display.HTML object>"
            ],
            "text/html": [
              "<div><iframe src=\"https://39a5335697a7ad0908.gradio.live\" width=\"100%\" height=\"500\" allow=\"autoplay; camera; microphone; clipboard-read; clipboard-write;\" frameborder=\"0\" allowfullscreen></iframe></div>"
            ]
          },
          "metadata": {}
        },
        {
          "output_type": "execute_result",
          "data": {
            "text/plain": []
          },
          "metadata": {},
          "execution_count": 16
        }
      ]
    }
  ]
}