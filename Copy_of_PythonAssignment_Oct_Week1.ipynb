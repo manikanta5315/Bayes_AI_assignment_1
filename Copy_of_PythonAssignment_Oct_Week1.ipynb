{
  "cells": [
    {
      "cell_type": "markdown",
      "metadata": {
        "id": "view-in-github",
        "colab_type": "text"
      },
      "source": [
        "<a href=\"https://colab.research.google.com/github/manikanta5315/Bayes_AI_assignment_1/blob/main/Copy_of_PythonAssignment_Oct_Week1.ipynb\" target=\"_parent\"><img src=\"https://colab.research.google.com/assets/colab-badge.svg\" alt=\"Open In Colab\"/></a>"
      ]
    },
    {
      "metadata": {
        "id": "6tgxENnLvLH7"
      },
      "cell_type": "markdown",
      "source": [
        "# Assignment - Python Basics Practice\n",
        "\n",
        "\n"
      ]
    },
    {
      "metadata": {
        "id": "1VqMdyiivLH-"
      },
      "cell_type": "markdown",
      "source": [
        "## Variables and Data Types\n",
        "\n",
        "**Q: Assign your name to the variable `name`.**"
      ]
    },
    {
      "metadata": {
        "trusted": true,
        "id": "yVIYuDDMvLH-",
        "colab": {
          "base_uri": "https://localhost:8080/"
        },
        "outputId": "34021de1-1756-459e-854d-1e5ab19d8e4a"
      },
      "cell_type": "code",
      "source": [
        "name = \"manikanta_varma\"\n",
        "print(name)"
      ],
      "execution_count": null,
      "outputs": [
        {
          "output_type": "stream",
          "name": "stdout",
          "text": [
            "manikanta_varma\n"
          ]
        }
      ]
    },
    {
      "metadata": {
        "id": "QeK-QA7GvLH-"
      },
      "cell_type": "markdown",
      "source": [
        "**Q: Assign your age (real or fake) to the variable `age`.**"
      ]
    },
    {
      "metadata": {
        "trusted": true,
        "id": "axuBC-y6vLH_"
      },
      "cell_type": "code",
      "source": [
        "age = 27"
      ],
      "execution_count": null,
      "outputs": []
    },
    {
      "metadata": {
        "id": "okMEWXHwvLH_"
      },
      "cell_type": "markdown",
      "source": [
        "**Q: Assign a boolean value to the variable `has_android_phone`.**"
      ]
    },
    {
      "metadata": {
        "trusted": true,
        "id": "Y6HA_IVGvLH_"
      },
      "cell_type": "code",
      "source": [
        "has_android_phone = True"
      ],
      "execution_count": null,
      "outputs": []
    },
    {
      "metadata": {
        "id": "QfC_6aXfvLIA"
      },
      "cell_type": "markdown",
      "source": [
        "**Q: Create a dictionary `person` with keys `\"Name\"`, `\"Age\"`, `\"HasAndroidPhone\"` and values using the variables defined above.**"
      ]
    },
    {
      "metadata": {
        "trusted": true,
        "id": "VdNLm3L5vLIA"
      },
      "cell_type": "code",
      "source": [
        "person = {\"name\": \"manikanta_varma\", \"age\": 27, \"has_android_phone\": True }"
      ],
      "execution_count": null,
      "outputs": []
    },
    {
      "metadata": {
        "id": "ytlWYVM7vLIA"
      },
      "cell_type": "markdown",
      "source": [
        "Let's use the `person` dictionary to print a nice message."
      ]
    },
    {
      "metadata": {
        "trusted": true,
        "id": "r5sq7VvevLIA",
        "colab": {
          "base_uri": "https://localhost:8080/"
        },
        "outputId": "953f1836-099d-41f3-ffab-69b7b6161591"
      },
      "cell_type": "code",
      "source": [
        "for key, value in person.items():\n",
        "  print(f\"The key '{key}' has a value '{value}' of the type '{type(value)}'\")"
      ],
      "execution_count": null,
      "outputs": [
        {
          "output_type": "stream",
          "name": "stdout",
          "text": [
            "The key 'name' has a value 'manikanta_varma' of the type '<class 'str'>'\n",
            "The key 'age' has a value '27' of the type '<class 'int'>'\n",
            "The key 'has_android_phone' has a value 'True' of the type '<class 'bool'>'\n"
          ]
        }
      ]
    },
    {
      "metadata": {
        "id": "HyQ9W2bGvLIB"
      },
      "cell_type": "markdown",
      "source": [
        "Use a `for` loop to display the `type` of each value stored against each key in `person`.**\n",
        "\n",
        "Here's the expected output for the key `\"Name\"`:\n",
        "\n",
        "```\n",
        "The key \"Name\" has the value \"Derek\" of the type \"<class 'str'>\"\n",
        "```"
      ]
    },
    {
      "metadata": {
        "id": "L5VT5-3yvLIB"
      },
      "cell_type": "markdown",
      "source": [
        "## Working with Lists\n",
        "\n",
        "**Q: Create a list containing the following 3 elements:**\n",
        "\n",
        "* your favorite color\n",
        "* the number of pets you have\n",
        "* a boolean value describing whether you have previous programming experience\n"
      ]
    },
    {
      "metadata": {
        "trusted": true,
        "id": "KKXeilefvLIB"
      },
      "cell_type": "code",
      "source": [
        "my_favourite_color = \"maroon\"\n",
        "number_of_pets =2\n",
        "previous_programming_experience = True\n",
        "my_list =[my_favourite_color, number_of_pets, previous_programming_experience]"
      ],
      "execution_count": null,
      "outputs": []
    },
    {
      "metadata": {
        "id": "qPMwq-6RvLIB"
      },
      "cell_type": "markdown",
      "source": [
        "Let's see what the list looks like:"
      ]
    },
    {
      "metadata": {
        "trusted": true,
        "id": "o8NZIpdVvLIB",
        "colab": {
          "base_uri": "https://localhost:8080/"
        },
        "outputId": "8faf1009-da40-4276-8585-ee95adab01a3"
      },
      "cell_type": "code",
      "source": [
        "print(my_list)"
      ],
      "execution_count": null,
      "outputs": [
        {
          "output_type": "stream",
          "name": "stdout",
          "text": [
            "['maroon', 2, True]\n"
          ]
        }
      ]
    },
    {
      "metadata": {
        "id": "5yhV9OtPvLIB"
      },
      "cell_type": "markdown",
      "source": [
        "**Q: Complete the following `print` and `if` statements by accessing the appropriate elements from `my_list`.**\n",
        "\n",
        "*Hint*: Use the list indexing notation `[]`."
      ]
    },
    {
      "metadata": {
        "trusted": true,
        "id": "xkkR9UObvLIB",
        "colab": {
          "base_uri": "https://localhost:8080/"
        },
        "outputId": "fe6211df-4e6d-4add-c176-e751730a178d"
      },
      "cell_type": "code",
      "source": [
        "\n",
        "\n",
        "print('My favorite color is:', my_list[0])"
      ],
      "execution_count": null,
      "outputs": [
        {
          "output_type": "stream",
          "name": "stdout",
          "text": [
            "My favorite color is: maroon\n"
          ]
        }
      ]
    },
    {
      "metadata": {
        "trusted": true,
        "id": "wS04XOMqvLIB",
        "colab": {
          "base_uri": "https://localhost:8080/"
        },
        "outputId": "7e33b8e0-9157-4d41-ba13-1cba09356655"
      },
      "cell_type": "code",
      "source": [
        "print('I have', my_list[1] ,'pet(s).')"
      ],
      "execution_count": null,
      "outputs": [
        {
          "output_type": "stream",
          "name": "stdout",
          "text": [
            "I have 2 pet(s).\n"
          ]
        }
      ]
    },
    {
      "metadata": {
        "trusted": true,
        "id": "oj9kdoAUvLIB",
        "colab": {
          "base_uri": "https://localhost:8080/"
        },
        "outputId": "9c00db75-c4ed-46c8-9725-6004c641b306"
      },
      "cell_type": "code",
      "source": [
        "if my_list[2] is True:\n",
        "    print(\"I have previous programming experience\")\n",
        "else:\n",
        "    print(\"I do not have previous programming experience\")"
      ],
      "execution_count": null,
      "outputs": [
        {
          "output_type": "stream",
          "name": "stdout",
          "text": [
            "I do not have previous programming experience\n"
          ]
        }
      ]
    },
    {
      "metadata": {
        "id": "IBhCrzSmvLIC"
      },
      "cell_type": "markdown",
      "source": [
        "**Q: Add your favorite single digit number to the end of the list using the appropriate list method.**"
      ]
    },
    {
      "metadata": {
        "trusted": true,
        "id": "mknB7HzavLIC",
        "colab": {
          "base_uri": "https://localhost:8080/"
        },
        "outputId": "358e60a8-cd02-4d4a-dd8d-a3a0e86ab4e6"
      },
      "cell_type": "code",
      "source": [
        "my_list.append(4)\n",
        "print(my_list)\n"
      ],
      "execution_count": null,
      "outputs": [
        {
          "output_type": "stream",
          "name": "stdout",
          "text": [
            "['maroon', 2, True, 4]\n"
          ]
        }
      ]
    },
    {
      "metadata": {
        "id": "8i7A_tYAvLIC"
      },
      "cell_type": "markdown",
      "source": [
        "Let's see if the number shows up in the list."
      ]
    },
    {
      "metadata": {
        "trusted": true,
        "id": "IOWnzL2vvLIC",
        "colab": {
          "base_uri": "https://localhost:8080/"
        },
        "outputId": "25a0e83e-fe78-4613-c083-e7dbf451db86"
      },
      "cell_type": "code",
      "source": [
        "print(my_list)\n"
      ],
      "execution_count": null,
      "outputs": [
        {
          "output_type": "stream",
          "name": "stdout",
          "text": [
            "['maroon', 2, True, 4]\n"
          ]
        }
      ]
    },
    {
      "metadata": {
        "id": "SWHbz8oNvLIC"
      },
      "cell_type": "markdown",
      "source": [
        "**Q: Remove the first element of the list, using the appropriate list method.**\n",
        "\n",
        "*Hint*: Check out methods of list here: https://www.w3schools.com/python/python_ref_list.asp"
      ]
    },
    {
      "metadata": {
        "trusted": true,
        "id": "ym4Y8jKgvLIC",
        "colab": {
          "base_uri": "https://localhost:8080/",
          "height": 36
        },
        "outputId": "fdee43bc-4771-485c-cc75-e732a40f1138"
      },
      "cell_type": "code",
      "source": [
        "my_list.pop(0)"
      ],
      "execution_count": null,
      "outputs": [
        {
          "output_type": "execute_result",
          "data": {
            "text/plain": [
              "'maroon'"
            ],
            "application/vnd.google.colaboratory.intrinsic+json": {
              "type": "string"
            }
          },
          "metadata": {},
          "execution_count": 78
        }
      ]
    },
    {
      "metadata": {
        "trusted": true,
        "id": "jySrd216vLIC",
        "colab": {
          "base_uri": "https://localhost:8080/"
        },
        "outputId": "ea1be1b7-0b3b-4a0e-a73e-890462ed2dfa"
      },
      "cell_type": "code",
      "source": [
        "print(my_list)"
      ],
      "execution_count": null,
      "outputs": [
        {
          "output_type": "stream",
          "name": "stdout",
          "text": [
            "[2, True, 4]\n"
          ]
        }
      ]
    },
    {
      "metadata": {
        "id": "PoUaBIy6vLIC"
      },
      "cell_type": "markdown",
      "source": [
        "**Q: Complete the `print` statement below to display the number of elements in `my_list`.**"
      ]
    },
    {
      "metadata": {
        "trusted": true,
        "id": "dNKqXe-OvLIC",
        "colab": {
          "base_uri": "https://localhost:8080/"
        },
        "outputId": "a7c2c78c-a709-438b-ef47-0601b27fc61c"
      },
      "cell_type": "code",
      "source": [
        "print(\"The number of elements in the list: \", len(my_list))"
      ],
      "execution_count": null,
      "outputs": [
        {
          "output_type": "stream",
          "name": "stdout",
          "text": [
            "The number of elements in the list:  3\n"
          ]
        }
      ]
    },
    {
      "metadata": {
        "id": "zxabeFFzvLIH"
      },
      "cell_type": "markdown",
      "source": [
        "## Conditions and loops\n",
        "\n",
        "**Q: Calculate and display the sum of all the numbers divisible by 7 between 18 and 534 i.e. `21+28+35+...+525+532`**.\n",
        "\n",
        "*Hint*: One way to do this is to loop over a `range` using `for` and use an `if` statement inside it."
      ]
    },
    {
      "metadata": {
        "trusted": true,
        "id": "xBYbCDgqvLIH",
        "colab": {
          "base_uri": "https://localhost:8080/"
        },
        "outputId": "56e8c1e0-138d-45b8-86eb-afb5498e1c67",
        "collapsed": true
      },
      "cell_type": "code",
      "source": [
        "sum = 0\n",
        "for i in range(18, 534):\n",
        "  if i % 7 == 0:\n",
        "    sum = i+sum\n",
        "    print(sum)\n"
      ],
      "execution_count": null,
      "outputs": [
        {
          "output_type": "stream",
          "name": "stdout",
          "text": [
            "21\n",
            "49\n",
            "84\n",
            "126\n",
            "175\n",
            "231\n",
            "294\n",
            "364\n",
            "441\n",
            "525\n",
            "616\n",
            "714\n",
            "819\n",
            "931\n",
            "1050\n",
            "1176\n",
            "1309\n",
            "1449\n",
            "1596\n",
            "1750\n",
            "1911\n",
            "2079\n",
            "2254\n",
            "2436\n",
            "2625\n",
            "2821\n",
            "3024\n",
            "3234\n",
            "3451\n",
            "3675\n",
            "3906\n",
            "4144\n",
            "4389\n",
            "4641\n",
            "4900\n",
            "5166\n",
            "5439\n",
            "5719\n",
            "6006\n",
            "6300\n",
            "6601\n",
            "6909\n",
            "7224\n",
            "7546\n",
            "7875\n",
            "8211\n",
            "8554\n",
            "8904\n",
            "9261\n",
            "9625\n",
            "9996\n",
            "10374\n",
            "10759\n",
            "11151\n",
            "11550\n",
            "11956\n",
            "12369\n",
            "12789\n",
            "13216\n",
            "13650\n",
            "14091\n",
            "14539\n",
            "14994\n",
            "15456\n",
            "15925\n",
            "16401\n",
            "16884\n",
            "17374\n",
            "17871\n",
            "18375\n",
            "18886\n",
            "19404\n",
            "19929\n",
            "20461\n"
          ]
        }
      ]
    },
    {
      "metadata": {
        "trusted": true,
        "id": "ia99bHJhvLIH",
        "colab": {
          "base_uri": "https://localhost:8080/"
        },
        "outputId": "994034d5-2ea9-4bcc-baca-14c398d789d5"
      },
      "cell_type": "code",
      "source": [
        "print('The sum of all the numbers divisible by 7 between 18 and 534 is', sum)"
      ],
      "execution_count": null,
      "outputs": [
        {
          "output_type": "stream",
          "name": "stdout",
          "text": [
            "The sum of all the numbers divisible by 7 between 18 and 534 is 20461\n"
          ]
        }
      ]
    },
    {
      "cell_type": "markdown",
      "source": [
        "## Lists"
      ],
      "metadata": {
        "id": "4ViBWsq_CJR4"
      }
    },
    {
      "cell_type": "markdown",
      "source": [
        "Q1: Write a Python program that takes a list of integers as input and performs the following operations:\n",
        "\n",
        "Remove all duplicates from the list.\n",
        "\n",
        "Sort the list in descending order.\n",
        "\n",
        "Print the second largest number from the list."
      ],
      "metadata": {
        "id": "rGHhWCZKCLld"
      }
    },
    {
      "metadata": {
        "trusted": true,
        "id": "SZ82tPFVvLIL",
        "colab": {
          "base_uri": "https://localhost:8080/"
        },
        "outputId": "2159f405-4751-44cb-dd21-e3a3e44bc42a"
      },
      "cell_type": "code",
      "source": [
        "def list_of_integers():\n",
        "  user_input = input(\"enter a list of integers:\" )\n",
        "  user_list = list(map(int, user_input.split()))\n",
        "\n",
        "\n",
        "#Removing duplicates from the list\n",
        "\n",
        "\n",
        "  unique_numbers = list(set(user_list))\n",
        "\n",
        "#sorting the list in descending order\n",
        "\n",
        "  unique_numbers.sort(reverse=True)\n",
        "\n",
        "#second largest number from the list\n",
        "\n",
        "  second_largest = unique_numbers[1]\n",
        "  print(second_largest)\n",
        "\n",
        "\n",
        "list_of_integers()\n",
        "\n",
        "\n",
        "\n",
        "\n",
        "\n",
        "\n",
        "\n",
        "\n"
      ],
      "execution_count": null,
      "outputs": [
        {
          "output_type": "stream",
          "name": "stdout",
          "text": [
            "enter a list of integers:1 2 3 4 5 6 7 8 9 8 7 6 5\n",
            "8\n"
          ]
        }
      ]
    },
    {
      "cell_type": "markdown",
      "source": [
        "## Dictionary"
      ],
      "metadata": {
        "id": "XQEcpkFdCavt"
      }
    },
    {
      "cell_type": "markdown",
      "source": [
        "Q2: Create a dictionary from two lists, one containing student names and the other containing their scores. Then, write a program to:\n",
        "\n",
        "Print the dictionary.\n",
        "\n",
        "Find the student with the highest score.\n",
        "\n",
        "Add a new student with a given score to the dictionary."
      ],
      "metadata": {
        "id": "sHTYSJczCTGB"
      }
    },
    {
      "cell_type": "code",
      "source": [
        "student_names = [\"Ram\", \"Sam\", \"Seetha\", \"geetha\"]\n",
        "scores = [60, 70, 90, 80]\n",
        "\n",
        "student_scores = dict(zip(student_names, scores))\n",
        "print(student_scores)\n",
        "\n",
        "highest_score = max(student_scores.values())\n",
        "student_names = [\"Ram\", \"Sam\", \"Seetha\", \"geetha\"]\n",
        "scores = [60, 70, 90, 80]\n",
        "\n",
        "student_scores = dict(zip(student_names, scores))\n",
        "print(student_scores)\n",
        "\n",
        "highest_score = max(student_scores.values())\n",
        "print(highest_score)\n",
        "\n",
        "for student_names, scores in student_scores.items():\n",
        "  if scores == highest_score:\n",
        "    print(f\"The student with the highest score is {student_names} with the score {scores}.\")\n",
        "\n",
        "\n",
        "new_student_name = input(\"priya\")\n",
        "new_student_score = int(input(\"95\"))\n",
        "\n",
        "student_scores[new_student_name] = new_student_score\n",
        "print(student_scores)\n",
        "\n",
        "\n",
        "\n",
        "new_student_name = input(\"priya\")\n",
        "new_student_score = int(input(95))\n",
        "\n",
        "student_scores[new_student_name] = new_student_score\n",
        "print(student_scores)"
      ],
      "metadata": {
        "id": "1j5QxWp-CaPV",
        "colab": {
          "base_uri": "https://localhost:8080/"
        },
        "outputId": "78ed8b05-238c-4684-e8dc-cc3ad363e52b"
      },
      "execution_count": null,
      "outputs": [
        {
          "name": "stdout",
          "output_type": "stream",
          "text": [
            "{'Ram': 60, 'Sam': 70, 'Seetha': 90, 'geetha': 80}\n",
            "{'Ram': 60, 'Sam': 70, 'Seetha': 90, 'geetha': 80}\n",
            "90\n",
            "The student with the highest score is Seetha with the score 90.\n",
            "priya95\n"
          ]
        }
      ]
    },
    {
      "cell_type": "markdown",
      "source": [
        "#Tuple"
      ],
      "metadata": {
        "id": "2hyaanCNCiIi"
      }
    },
    {
      "cell_type": "markdown",
      "source": [
        "3: Write a Python program to create a tuple from a list of integers. Then:\n",
        "\n",
        "Find the minimum, maximum, and sum of the elements in the tuple.\n",
        "\n",
        "Convert the tuple into a string and print it."
      ],
      "metadata": {
        "id": "JXCvRY60CdIC"
      }
    },
    {
      "cell_type": "code",
      "source": [
        "my_list = [10, 20, 30, 40, 50]\n",
        "\n",
        "#list to tuple\n",
        "my_tuple = tuple(my_list)\n",
        "\n",
        "# minimum, maximum, and sum\n",
        "minimum = min(my_tuple)\n",
        "maximum = max(my_tuple)\n",
        "total_sum = sum(my_tuple)\n",
        "\n",
        "print(\"Minimum:\", minimum)\n",
        "print(\"Maximum:\", maximum)\n",
        "print(\"Sum:\", total_sum)\n",
        "\n",
        "# tuple to string\n",
        "tuple_str = str(my_tuple)\n",
        "print(\"Tuple as string:\", tuple_str)"
      ],
      "metadata": {
        "id": "DuJ7X4WECjob",
        "colab": {
          "base_uri": "https://localhost:8080/"
        },
        "outputId": "aecf66ec-b196-436c-fb5b-51e7d4d1d0ed"
      },
      "execution_count": 1,
      "outputs": [
        {
          "output_type": "stream",
          "name": "stdout",
          "text": [
            "Minimum: 10\n",
            "Maximum: 50\n",
            "Sum: 150\n",
            "Tuple as string: (10, 20, 30, 40, 50)\n"
          ]
        }
      ]
    },
    {
      "cell_type": "markdown",
      "source": [
        "##Numpy"
      ],
      "metadata": {
        "id": "1kYvyW6XCzeq"
      }
    },
    {
      "cell_type": "markdown",
      "source": [
        "\n",
        "Q4: Using the NumPy library:\n",
        "\n",
        "Create a 3x3 matrix filled with random integers between 1 and 20.\n",
        "\n",
        "Replace all values greater than 10 with 0.\n",
        "\n",
        "Find the mean of the modified matrix."
      ],
      "metadata": {
        "id": "OPqNJ7fyCkAA"
      }
    },
    {
      "cell_type": "code",
      "source": [
        "import numpy as np\n",
        "matrix =np.random.randint(1, 21, size=(3, 3))\n",
        "matrix[matrix > 10] = 0\n",
        "mean_value = np.mean(matrix)\n",
        "print(matrix)\n",
        "print(mean_value)\n"
      ],
      "metadata": {
        "id": "nYOz4En9CxGp",
        "colab": {
          "base_uri": "https://localhost:8080/"
        },
        "outputId": "fc913a72-7f85-4f6e-a6fe-07d63e113638"
      },
      "execution_count": 2,
      "outputs": [
        {
          "output_type": "stream",
          "name": "stdout",
          "text": [
            "[[ 8  6  3]\n",
            " [ 7  8  0]\n",
            " [ 0 10  6]]\n",
            "5.333333333333333\n"
          ]
        }
      ]
    },
    {
      "cell_type": "markdown",
      "source": [
        "## Pandas"
      ],
      "metadata": {
        "id": "8Z0UcbZXC1U0"
      }
    },
    {
      "cell_type": "markdown",
      "source": [
        "Q5: Using the Pandas library:\n",
        "\n",
        "Create a DataFrame from a dictionary where the keys are column names, and the values are lists representing data for each column.\n",
        "\n",
        "Add a new column to the DataFrame by calculating the difference between two existing columns.\n",
        "\n",
        "Drop any rows where the value in a specific column is less than 50."
      ],
      "metadata": {
        "id": "abiz20V4C1RS"
      }
    },
    {
      "cell_type": "code",
      "source": [
        "import pandas as pd\n",
        "data = {\n",
        "    'Name': ['ram', 'sam', 'seetha', 'geetha', 'priya', 'varun'],\n",
        "    'Age': [20, 25, 30, 35, 40, 45]\n",
        "}\n",
        "\n",
        "df = pd.DataFrame(data)\n",
        "df['Age_difference'] = df['Age'].diff()\n",
        "df.drop(df[df['Age'] < 50].index, inplace = True)\n",
        "print(df)"
      ],
      "metadata": {
        "id": "ah5WJvzDC7iK",
        "colab": {
          "base_uri": "https://localhost:8080/"
        },
        "outputId": "72e465c9-6780-4301-e98b-762930c2eb89"
      },
      "execution_count": 14,
      "outputs": [
        {
          "output_type": "stream",
          "name": "stdout",
          "text": [
            "Empty DataFrame\n",
            "Columns: [Name, Age, Age_difference]\n",
            "Index: []\n"
          ]
        }
      ]
    },
    {
      "cell_type": "markdown",
      "source": [
        "##Exception Handling"
      ],
      "metadata": {
        "id": "VF5MTuC7C_94"
      }
    },
    {
      "cell_type": "markdown",
      "source": [
        "\n",
        "Q6: Write a Python program to perform division of two user-input numbers. Implement exception handling to:\n",
        "\n",
        "Catch the division by zero error.\n",
        "\n",
        "Catch invalid input type errors (e.g., if the user enters a string instead of a number).\n",
        "\n",
        "Ensure the program runs successfully even if an error occurs. (Hint: Add finally)"
      ],
      "metadata": {
        "id": "vLTDuZGuC_3d"
      }
    },
    {
      "cell_type": "code",
      "source": [
        "try:\n",
        "  num1 = float(input(\"first number: \", ))\n",
        "  num2 = float(input(\"second number: \", ))\n",
        "  result = num1/num2\n",
        "  print(\"result: \", result)\n",
        "\n",
        "except ZeroDivisionError:\n",
        "  print(\"error: division by zero is not allowe\")\n",
        "\n",
        "except ValueError:\n",
        "  print(\"error: input invali. please enter a valid input\")\n",
        "\n",
        "finally:\n",
        "  print(\"programm completed\")"
      ],
      "metadata": {
        "id": "ktyOho_2DHyP",
        "colab": {
          "base_uri": "https://localhost:8080/"
        },
        "outputId": "7db86dc2-cd53-43a4-faae-017efc6e432f"
      },
      "execution_count": 15,
      "outputs": [
        {
          "output_type": "stream",
          "name": "stdout",
          "text": [
            "first number: 5\n",
            "second number: 10\n",
            "result:  0.5\n",
            "programm completed\n"
          ]
        }
      ]
    },
    {
      "cell_type": "markdown",
      "source": [
        "## Matplotlib"
      ],
      "metadata": {
        "id": "rNyZu1w9DeTz"
      }
    },
    {
      "cell_type": "markdown",
      "source": [
        "\n",
        "Q7: Create a line chart using the Matplotlib library to display the population growth over years. The program should:\n",
        "\n",
        "Create dummy data: containing years and population values.\n",
        "\n",
        "Plot the line chart with proper labels for the x-axis, y-axis, and a title."
      ],
      "metadata": {
        "id": "Udg5GavODMuT"
      }
    },
    {
      "cell_type": "code",
      "source": [
        "import matplotlib.pyplot as plt\n",
        "years = [2000, 2005, 2010, 2015, 2020, 2025]\n",
        "population =[10000000, 12000000, 13000000, 14000000, 15000000, 16000000]\n",
        "plt.plot(years, population)\n",
        "plt.xlabel(\"years\", color = 'maroon')\n",
        "plt.ylabel(\"population\", color = 'green')\n",
        "plt.title(\"population growth over years\")\n",
        "\n",
        "plt.show()\n"
      ],
      "metadata": {
        "id": "k6nTd1wRDdUg",
        "colab": {
          "base_uri": "https://localhost:8080/",
          "height": 472
        },
        "outputId": "d8bc9776-7850-4bbd-9c68-48bd712b6ac6"
      },
      "execution_count": 24,
      "outputs": [
        {
          "output_type": "display_data",
          "data": {
            "text/plain": [
              "<Figure size 640x480 with 1 Axes>"
            ],
            "image/png": "[encoded data removed]"
          },
          "metadata": {}
        }
      ]
    },
    {
      "cell_type": "markdown",
      "source": [
        "## Seaborn"
      ],
      "metadata": {
        "id": "_W9lJpzZDxNF"
      }
    },
    {
      "cell_type": "markdown",
      "source": [
        "\n",
        "Q8: Using the Seaborn library, plot a distribution of the sepal_length column from the Iris dataset. The program should:\n",
        "\n",
        "Load the 'iris' dataset from Seaborn's sample datasets.\n",
        "Plot a KDE (Kernel Density Estimation) plot for the sepal_length column.\n",
        "Customize the plot with a title and set the color of the plot to blue.\n"
      ],
      "metadata": {
        "id": "hM12mAgqDyId"
      }
    },
    {
      "cell_type": "code",
      "source": [
        "import seaborn as sns\n",
        "import matplotlib.pyplot as plt\n",
        "iris = sns.load_dataset(\"iris\")\n",
        "sns.kdeplot(data = iris, x = 'sepal_length', color = 'blue')\n",
        "plt.title(\"distribution of the sepal_length column\")\n",
        "plt.show()\n"
      ],
      "metadata": {
        "id": "3CYknAGGDzpK",
        "colab": {
          "base_uri": "https://localhost:8080/",
          "height": 472
        },
        "outputId": "7f4d7859-a500-40f8-e123-cf1b042429df"
      },
      "execution_count": 22,
      "outputs": [
        {
          "output_type": "display_data",
          "data": {
            "text/plain": [
              "<Figure size 640x480 with 1 Axes>"
            ],
            "image/png": "[encoded data removed]"
          },
          "metadata": {}
        }
      ]
    },
    {
      "cell_type": "markdown",
      "source": [
        "## Pandas DataFrame"
      ],
      "metadata": {
        "id": "fFTydMAXD-cD"
      }
    },
    {
      "cell_type": "markdown",
      "source": [
        "\n",
        "Q9: Write a Python program to perform the following operations on the Iris dataset:\n",
        "\n",
        "Load the dataset into a Pandas DataFrame.\n",
        "\n",
        "Display the first 10 rows of the DataFrame.\n",
        "\n",
        "Group the data by the species column and calculate the mean of each numeric column for each species.\n",
        "\n",
        "Add a new column sepal_area that is the product of sepal_length and sepal_width.\n",
        "\n",
        "Filter the DataFrame to show only rows where sepal_area is greater than 20."
      ],
      "metadata": {
        "id": "nZSrcAuuD-Yt"
      }
    },
    {
      "cell_type": "code",
      "source": [
        "import pandas as pd\n",
        "import seaborn as sns\n",
        "\n",
        "iris = sns.load_dataset('iris')\n",
        "print(iris.head(10))\n",
        "grouped_data = iris.groupby(\"species\").mean()\n",
        "iris[\"sepal_area\"] = iris[\"sepal_length\"] * iris[\"sepal_width\"]\n",
        "filtered_data = iris[iris[\"sepal_area\"] > 20]\n",
        "print(filtered_data)\n"
      ],
      "metadata": {
        "id": "vWpR1ZA1EE5v",
        "colab": {
          "base_uri": "https://localhost:8080/"
        },
        "outputId": "e9e5a4d2-f18e-4f3b-cca0-b89daa3e156a"
      },
      "execution_count": 33,
      "outputs": [
        {
          "output_type": "stream",
          "name": "stdout",
          "text": [
            "   sepal_length  sepal_width  petal_length  petal_width species\n",
            "0           5.1          3.5           1.4          0.2  setosa\n",
            "1           4.9          3.0           1.4          0.2  setosa\n",
            "2           4.7          3.2           1.3          0.2  setosa\n",
            "3           4.6          3.1           1.5          0.2  setosa\n",
            "4           5.0          3.6           1.4          0.2  setosa\n",
            "5           5.4          3.9           1.7          0.4  setosa\n",
            "6           4.6          3.4           1.4          0.3  setosa\n",
            "7           5.0          3.4           1.5          0.2  setosa\n",
            "8           4.4          2.9           1.4          0.2  setosa\n",
            "9           4.9          3.1           1.5          0.1  setosa\n",
            "     sepal_length  sepal_width  petal_length  petal_width     species  \\\n",
            "5             5.4          3.9           1.7          0.4      setosa   \n",
            "14            5.8          4.0           1.2          0.2      setosa   \n",
            "15            5.7          4.4           1.5          0.4      setosa   \n",
            "16            5.4          3.9           1.3          0.4      setosa   \n",
            "18            5.7          3.8           1.7          0.3      setosa   \n",
            "32            5.2          4.1           1.5          0.1      setosa   \n",
            "33            5.5          4.2           1.4          0.2      setosa   \n",
            "50            7.0          3.2           4.7          1.4  versicolor   \n",
            "51            6.4          3.2           4.5          1.5  versicolor   \n",
            "52            6.9          3.1           4.9          1.5  versicolor   \n",
            "56            6.3          3.3           4.7          1.6  versicolor   \n",
            "65            6.7          3.1           4.4          1.4  versicolor   \n",
            "77            6.7          3.0           5.0          1.7  versicolor   \n",
            "85            6.0          3.4           4.5          1.6  versicolor   \n",
            "86            6.7          3.1           4.7          1.5  versicolor   \n",
            "100           6.3          3.3           6.0          2.5   virginica   \n",
            "102           7.1          3.0           5.9          2.1   virginica   \n",
            "105           7.6          3.0           6.6          2.1   virginica   \n",
            "107           7.3          2.9           6.3          1.8   virginica   \n",
            "109           7.2          3.6           6.1          2.5   virginica   \n",
            "110           6.5          3.2           5.1          2.0   virginica   \n",
            "112           6.8          3.0           5.5          2.1   virginica   \n",
            "115           6.4          3.2           5.3          2.3   virginica   \n",
            "117           7.7          3.8           6.7          2.2   virginica   \n",
            "118           7.7          2.6           6.9          2.3   virginica   \n",
            "120           6.9          3.2           5.7          2.3   virginica   \n",
            "122           7.7          2.8           6.7          2.0   virginica   \n",
            "124           6.7          3.3           5.7          2.1   virginica   \n",
            "125           7.2          3.2           6.0          1.8   virginica   \n",
            "129           7.2          3.0           5.8          1.6   virginica   \n",
            "130           7.4          2.8           6.1          1.9   virginica   \n",
            "131           7.9          3.8           6.4          2.0   virginica   \n",
            "135           7.7          3.0           6.1          2.3   virginica   \n",
            "136           6.3          3.4           5.6          2.4   virginica   \n",
            "139           6.9          3.1           5.4          2.1   virginica   \n",
            "140           6.7          3.1           5.6          2.4   virginica   \n",
            "141           6.9          3.1           5.1          2.3   virginica   \n",
            "143           6.8          3.2           5.9          2.3   virginica   \n",
            "144           6.7          3.3           5.7          2.5   virginica   \n",
            "145           6.7          3.0           5.2          2.3   virginica   \n",
            "148           6.2          3.4           5.4          2.3   virginica   \n",
            "\n",
            "     sepal_area  \n",
            "5         21.06  \n",
            "14        23.20  \n",
            "15        25.08  \n",
            "16        21.06  \n",
            "18        21.66  \n",
            "32        21.32  \n",
            "33        23.10  \n",
            "50        22.40  \n",
            "51        20.48  \n",
            "52        21.39  \n",
            "56        20.79  \n",
            "65        20.77  \n",
            "77        20.10  \n",
            "85        20.40  \n",
            "86        20.77  \n",
            "100       20.79  \n",
            "102       21.30  \n",
            "105       22.80  \n",
            "107       21.17  \n",
            "109       25.92  \n",
            "110       20.80  \n",
            "112       20.40  \n",
            "115       20.48  \n",
            "117       29.26  \n",
            "118       20.02  \n",
            "120       22.08  \n",
            "122       21.56  \n",
            "124       22.11  \n",
            "125       23.04  \n",
            "129       21.60  \n",
            "130       20.72  \n",
            "131       30.02  \n",
            "135       23.10  \n",
            "136       21.42  \n",
            "139       21.39  \n",
            "140       20.77  \n",
            "141       21.39  \n",
            "143       21.76  \n",
            "144       22.11  \n",
            "145       20.10  \n",
            "148       21.08  \n"
          ]
        }
      ]
    },
    {
      "cell_type": "markdown",
      "source": [
        "## Functions"
      ],
      "metadata": {
        "id": "boirWrgRElAS"
      }
    },
    {
      "cell_type": "markdown",
      "source": [
        "Q10: Write a Python program that defines a function to calculate the Body Mass Index (BMI) based on a person's weight and height. The program should:\n",
        "\n",
        "Define a function calculate_bmi(weight, height) that takes the weight (in kilograms) and height (in meters) as arguments and returns the BMI.\n",
        "\n",
        "BMI = weight/(height**2)\n",
        "\n",
        "Use the function to calculate the BMI for a given weight and height input by the user.\n",
        "\n",
        "Define another function bmi_category(bmi) that takes the BMI as input and returns the BMI category:\n",
        "\n",
        "\"Underweight\" if BMI < 18.5\n",
        "\n",
        "\"Normal weight\" if 18.5 <= BMI < 24.9\n",
        "\n",
        "\"Overweight\" if 25 <= BMI < 29.9\n",
        "\n",
        "\"Obese\" if BMI >= 30\n",
        "\n",
        "(Hint; use if elif else multiple conditions)\n",
        "\n",
        "Print the calculated BMI and the corresponding category."
      ],
      "metadata": {
        "id": "Ve2MS7VKEk9C"
      }
    },
    {
      "cell_type": "code",
      "source": [
        "def calculate_bmi(weight, height):\n",
        "  bmi = weight/(height**2)\n",
        "  return bmi\n",
        "\n",
        "def bmi_category(bmi):\n",
        "    \"\"\"Determine the BMI category based on the BMI value\"\"\"\n",
        "    if bmi < 18.5:\n",
        "        return \"Underweight\"\n",
        "    elif 18.5 <= bmi < 24.9:\n",
        "        return \"Normal weight\"\n",
        "    elif 25 <= bmi < 29.9:\n",
        "        return \"Overweight\"\n",
        "    else:\n",
        "        return \"Obese\"\n",
        "\n",
        "\n",
        "if __name__ == \"__main__\":\n",
        "\n",
        "    weight = float(input(\"Enter your weight in kilograms: \"))\n",
        "    height = float(input(\"Enter your height in meters: \"))\n",
        "\n",
        "    # Calculate BMI\n",
        "    bmi = calculate_bmi(weight, height)\n",
        "\n",
        "    # Determine the BMI category\n",
        "    category = bmi_category(bmi)\n",
        "\n",
        "    print(f\"Your BMI is: {bmi:.2f}\")\n",
        "    print(f\"You are categorized as: {category}\")\n"
      ],
      "metadata": {
        "id": "vk_rMP-8E31G",
        "colab": {
          "base_uri": "https://localhost:8080/"
        },
        "outputId": "dbe51a5d-f52a-4fbc-cf35-9fbbcff796ee"
      },
      "execution_count": 36,
      "outputs": [
        {
          "output_type": "stream",
          "name": "stdout",
          "text": [
            "Enter your weight in kilograms: 78\n",
            "Enter your height in meters: 5.11\n",
            "Your BMI is: 2.99\n",
            "You are categorized as: Underweight\n"
          ]
        }
      ]
    }
  ],
  "metadata": {
    "kernelspec": {
      "language": "python",
      "display_name": "Python 3",
      "name": "python3"
    },
    "language_info": {
      "pygments_lexer": "ipython3",
      "nbconvert_exporter": "python",
      "version": "3.6.4",
      "file_extension": ".py",
      "codemirror_mode": {
        "name": "ipython",
        "version": 3
      },
      "name": "python",
      "mimetype": "text/x-python"
    },
    "colab": {
      "provenance": [],
      "include_colab_link": true
    }
  },
  "nbformat": 4,
  "nbformat_minor": 0
}